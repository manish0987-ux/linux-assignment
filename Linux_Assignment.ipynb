{
  "nbformat": 4,
  "nbformat_minor": 0,
  "metadata": {
    "colab": {
      "provenance": [],
      "toc_visible": true
    },
    "kernelspec": {
      "name": "python3",
      "display_name": "Python 3"
    },
    "language_info": {
      "name": "python"
    }
  },
  "cells": [
    {
      "cell_type": "markdown",
      "source": [
        "1) What is Linux?\n",
        "  - Linux is an operating system (OX) based on unix. It is one of the most widely used operation stytem in the world especially for servers.\n",
        "\n",
        "2) What is the difference between soft link and hard link ?\n",
        "  - SOFT LINK - Its more like a shortcut . It points to the file name , not the inode\n",
        "\n",
        "  - HARD LINK - A hard link is an exact copy of the file reference , pointing to the same inode .\n",
        "\n",
        "3) What is a Kernel in Linux ?\n",
        "  - In linux kernel is the core part of the system , it acts as the bridges between hardware and software of the computer .\n",
        "\n",
        "  Kernel is responsible for :\n",
        "  a) Process Management\n",
        "  b) Memory Management\n",
        "  c) Device Management\n",
        "  d) File system Management\n",
        "  e) System Calls and Security\n",
        "\n",
        "4) How do you create a user account ?\n",
        "  "
      ],
      "metadata": {
        "id": "iRrOeiGKmoWH"
      }
    },
    {
      "cell_type": "code",
      "source": [
        "# sudo adduser username\n",
        "\n"
      ],
      "metadata": {
        "id": "Y6rqMhcNuZ5A"
      },
      "execution_count": null,
      "outputs": []
    },
    {
      "cell_type": "markdown",
      "source": [],
      "metadata": {
        "id": "RGdg3Wzwuiem"
      }
    },
    {
      "cell_type": "markdown",
      "source": [
        "5) What is the  grep command used for in linux?\n",
        "   - The GREP command in linux is used to search for text and patterns within files . Its one of the most powerfull and common command used in linux .\n"
      ],
      "metadata": {
        "id": "Wx3_6nM5u2TM"
      }
    },
    {
      "cell_type": "code",
      "source": [
        "from os import supports_dir_fd\n",
        "Question 6 )\n",
        "Step 1)Create user p1\n",
        "\n",
        "  # sudo adduser p1\n",
        "\n",
        "Step 2) He should be a part of 3 groups g1,g2,g3\n",
        "\n",
        "  # sudo groupadd g1\n",
        "  # sudo groupadd g3\n",
        "  # sudo groupadd g3\n",
        "  # sudo usermod -ag g1,g2,g3 p1\n",
        "\n",
        "Step 3) Whenever he creates a file automatically in the group section of the file group g1 should come.\n",
        "\n",
        "  1) set g1 as the primary group of p1\n",
        "\n",
        "    # sudo usermod -g g1 p1\n",
        "    # id p1\n",
        "    # grep p1 /etc/passwd\n",
        "\n",
        "Q7)\n",
        "\n",
        "Step 1) Create directory/tmp/bg as root user and create files inside it.\n",
        "\n",
        " a) create a directory as root\n",
        " b) trasfer ownership to user abhi\n",
        " c) allow abhi to create and delete files inside the directory\n",
        "\n",
        "   # sudo mkdir tmp/bg\n",
        "   # sudo touch tmp/bg/file1.txt tmp/bg/file2.txt\n",
        "   # sudo adduser abhi\n",
        "   # sudo chown -R abhi:abhi /tmp/bg\n",
        "\n",
        "   step 2) \"abhi\" should be the owner of the directory.He should be able to create files and delete files inside the directory and also he should be able to add content to all files inside the directory.\n",
        "\n",
        "     # sudo chmod 700 /tmp/bg\n",
        "\n",
        "\n"
      ],
      "metadata": {
        "id": "k9EOTlInw-KE"
      },
      "execution_count": null,
      "outputs": []
    }
  ]
}